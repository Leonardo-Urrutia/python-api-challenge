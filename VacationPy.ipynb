{
 "cells": [
  {
   "cell_type": "markdown",
   "metadata": {},
   "source": [
    "# VacationPy\n",
    "----\n",
    "\n",
    "#### Note\n",
    "* Keep an eye on your API usage. Use https://developers.google.com/maps/reporting/gmp-reporting as reference for how to monitor your usage and billing.\n",
    "\n",
    "* Instructions have been included for each segment. You do not have to follow them exactly, but they are included to help you think through the steps."
   ]
  },
  {
   "cell_type": "code",
   "execution_count": 36,
   "metadata": {},
   "outputs": [],
   "source": [
    "# Dependencies and Setup\n",
    "import matplotlib.pyplot as plt\n",
    "import pandas as pd\n",
    "import numpy as np\n",
    "import requests\n",
    "import gmaps\n",
    "import os\n",
    "from pprint import pprint\n",
    "\n",
    "# Import API key\n",
    "from api_keys import g_key\n",
    "gmaps.configure(api_key=g_key)"
   ]
  },
  {
   "cell_type": "markdown",
   "metadata": {},
   "source": [
    "### Store Part I results into DataFrame\n",
    "* Load the csv exported in Part I to a DataFrame"
   ]
  },
  {
   "cell_type": "code",
   "execution_count": 3,
   "metadata": {
    "scrolled": true
   },
   "outputs": [
    {
     "data": {
      "text/html": [
       "<div>\n",
       "<style scoped>\n",
       "    .dataframe tbody tr th:only-of-type {\n",
       "        vertical-align: middle;\n",
       "    }\n",
       "\n",
       "    .dataframe tbody tr th {\n",
       "        vertical-align: top;\n",
       "    }\n",
       "\n",
       "    .dataframe thead th {\n",
       "        text-align: right;\n",
       "    }\n",
       "</style>\n",
       "<table border=\"1\" class=\"dataframe\">\n",
       "  <thead>\n",
       "    <tr style=\"text-align: right;\">\n",
       "      <th></th>\n",
       "      <th>City</th>\n",
       "      <th>Latitude</th>\n",
       "      <th>Longitude</th>\n",
       "      <th>Temperature</th>\n",
       "      <th>Humidity</th>\n",
       "      <th>Cloudiness</th>\n",
       "      <th>Wind Speed</th>\n",
       "      <th>Country</th>\n",
       "      <th>Date</th>\n",
       "    </tr>\n",
       "  </thead>\n",
       "  <tbody>\n",
       "    <tr>\n",
       "      <th>0</th>\n",
       "      <td>albany</td>\n",
       "      <td>42.60</td>\n",
       "      <td>-73.97</td>\n",
       "      <td>28.78</td>\n",
       "      <td>86</td>\n",
       "      <td>36</td>\n",
       "      <td>3.67</td>\n",
       "      <td>US</td>\n",
       "      <td>1604123172</td>\n",
       "    </tr>\n",
       "    <tr>\n",
       "      <th>1</th>\n",
       "      <td>mvuma</td>\n",
       "      <td>-19.28</td>\n",
       "      <td>30.53</td>\n",
       "      <td>73.35</td>\n",
       "      <td>40</td>\n",
       "      <td>0</td>\n",
       "      <td>13.38</td>\n",
       "      <td>ZW</td>\n",
       "      <td>1604123553</td>\n",
       "    </tr>\n",
       "    <tr>\n",
       "      <th>2</th>\n",
       "      <td>mar del plata</td>\n",
       "      <td>-38.00</td>\n",
       "      <td>-57.56</td>\n",
       "      <td>48.52</td>\n",
       "      <td>93</td>\n",
       "      <td>0</td>\n",
       "      <td>5.82</td>\n",
       "      <td>AR</td>\n",
       "      <td>1604123259</td>\n",
       "    </tr>\n",
       "    <tr>\n",
       "      <th>3</th>\n",
       "      <td>barrow</td>\n",
       "      <td>71.29</td>\n",
       "      <td>-156.79</td>\n",
       "      <td>3.20</td>\n",
       "      <td>84</td>\n",
       "      <td>20</td>\n",
       "      <td>6.93</td>\n",
       "      <td>US</td>\n",
       "      <td>1604123102</td>\n",
       "    </tr>\n",
       "    <tr>\n",
       "      <th>4</th>\n",
       "      <td>east london</td>\n",
       "      <td>-33.02</td>\n",
       "      <td>27.91</td>\n",
       "      <td>59.00</td>\n",
       "      <td>87</td>\n",
       "      <td>20</td>\n",
       "      <td>6.93</td>\n",
       "      <td>ZA</td>\n",
       "      <td>1604123179</td>\n",
       "    </tr>\n",
       "    <tr>\n",
       "      <th>...</th>\n",
       "      <td>...</td>\n",
       "      <td>...</td>\n",
       "      <td>...</td>\n",
       "      <td>...</td>\n",
       "      <td>...</td>\n",
       "      <td>...</td>\n",
       "      <td>...</td>\n",
       "      <td>...</td>\n",
       "      <td>...</td>\n",
       "    </tr>\n",
       "    <tr>\n",
       "      <th>555</th>\n",
       "      <td>panjab</td>\n",
       "      <td>34.39</td>\n",
       "      <td>67.02</td>\n",
       "      <td>46.31</td>\n",
       "      <td>21</td>\n",
       "      <td>0</td>\n",
       "      <td>1.95</td>\n",
       "      <td>AF</td>\n",
       "      <td>1604123250</td>\n",
       "    </tr>\n",
       "    <tr>\n",
       "      <th>556</th>\n",
       "      <td>akyab</td>\n",
       "      <td>20.15</td>\n",
       "      <td>92.90</td>\n",
       "      <td>84.40</td>\n",
       "      <td>69</td>\n",
       "      <td>86</td>\n",
       "      <td>6.40</td>\n",
       "      <td>MM</td>\n",
       "      <td>1604123789</td>\n",
       "    </tr>\n",
       "    <tr>\n",
       "      <th>557</th>\n",
       "      <td>champerico</td>\n",
       "      <td>14.30</td>\n",
       "      <td>-91.92</td>\n",
       "      <td>64.02</td>\n",
       "      <td>96</td>\n",
       "      <td>28</td>\n",
       "      <td>7.63</td>\n",
       "      <td>GT</td>\n",
       "      <td>1604123264</td>\n",
       "    </tr>\n",
       "    <tr>\n",
       "      <th>558</th>\n",
       "      <td>la dorada</td>\n",
       "      <td>5.45</td>\n",
       "      <td>-74.66</td>\n",
       "      <td>72.57</td>\n",
       "      <td>87</td>\n",
       "      <td>41</td>\n",
       "      <td>0.96</td>\n",
       "      <td>CO</td>\n",
       "      <td>1604123789</td>\n",
       "    </tr>\n",
       "    <tr>\n",
       "      <th>559</th>\n",
       "      <td>de-kastri</td>\n",
       "      <td>51.47</td>\n",
       "      <td>140.78</td>\n",
       "      <td>40.82</td>\n",
       "      <td>69</td>\n",
       "      <td>27</td>\n",
       "      <td>3.40</td>\n",
       "      <td>RU</td>\n",
       "      <td>1604123789</td>\n",
       "    </tr>\n",
       "  </tbody>\n",
       "</table>\n",
       "<p>560 rows × 9 columns</p>\n",
       "</div>"
      ],
      "text/plain": [
       "              City  Latitude  Longitude  Temperature  Humidity  Cloudiness  \\\n",
       "0           albany     42.60     -73.97        28.78        86          36   \n",
       "1            mvuma    -19.28      30.53        73.35        40           0   \n",
       "2    mar del plata    -38.00     -57.56        48.52        93           0   \n",
       "3           barrow     71.29    -156.79         3.20        84          20   \n",
       "4      east london    -33.02      27.91        59.00        87          20   \n",
       "..             ...       ...        ...          ...       ...         ...   \n",
       "555         panjab     34.39      67.02        46.31        21           0   \n",
       "556          akyab     20.15      92.90        84.40        69          86   \n",
       "557     champerico     14.30     -91.92        64.02        96          28   \n",
       "558      la dorada      5.45     -74.66        72.57        87          41   \n",
       "559      de-kastri     51.47     140.78        40.82        69          27   \n",
       "\n",
       "     Wind Speed Country        Date  \n",
       "0          3.67      US  1604123172  \n",
       "1         13.38      ZW  1604123553  \n",
       "2          5.82      AR  1604123259  \n",
       "3          6.93      US  1604123102  \n",
       "4          6.93      ZA  1604123179  \n",
       "..          ...     ...         ...  \n",
       "555        1.95      AF  1604123250  \n",
       "556        6.40      MM  1604123789  \n",
       "557        7.63      GT  1604123264  \n",
       "558        0.96      CO  1604123789  \n",
       "559        3.40      RU  1604123789  \n",
       "\n",
       "[560 rows x 9 columns]"
      ]
     },
     "execution_count": 3,
     "metadata": {},
     "output_type": "execute_result"
    }
   ],
   "source": [
    "weatherCsvPath = \"output_data/city_weather_data.csv\"\n",
    "weather_df = pd.read_csv(weatherCsvPath)\n",
    "weather_df"
   ]
  },
  {
   "cell_type": "code",
   "execution_count": 37,
   "metadata": {},
   "outputs": [],
   "source": [
    "#Turning lat and lon into a list of tuples\n",
    "latLongDF = weather_df.loc[:, [\"Latitude\", \"Longitude\"]]\n",
    "coordinatesDF = latLongDF.to_records(index=False)\n",
    "coordinates = list(coordinatesDF)"
   ]
  },
  {
   "cell_type": "markdown",
   "metadata": {},
   "source": [
    "### Humidity Heatmap\n",
    "* Configure gmaps.\n",
    "* Use the Lat and Lng as locations and Humidity as the weight.\n",
    "* Add Heatmap layer to map."
   ]
  },
  {
   "cell_type": "code",
   "execution_count": 38,
   "metadata": {},
   "outputs": [
    {
     "data": {
      "application/vnd.jupyter.widget-view+json": {
       "model_id": "e70c678ead9c47fca154e202ddd42926",
       "version_major": 2,
       "version_minor": 0
      },
      "text/plain": [
       "Figure(layout=FigureLayout(border='1px solid black', height='450px', margin='0 auto 0 auto', padding='1px', wi…"
      ]
     },
     "metadata": {},
     "output_type": "display_data"
    }
   ],
   "source": [
    "figure_layout = {\n",
    "    'width': '600px',\n",
    "    'height': '450px',\n",
    "    'border': '1px solid black',\n",
    "    'padding': '1px',\n",
    "    'margin': '0 auto 0 auto'\n",
    "}\n",
    "fig = gmaps.figure(layout=figure_layout)\n",
    "heat_layer = gmaps.heatmap_layer(coordinates, weights=weather_df[\"Humidity\"], \n",
    "                                 dissipating=False, max_intensity=10,\n",
    "                                 point_radius=1)\n",
    "fig.add_layer(heat_layer)\n",
    "fig"
   ]
  },
  {
   "cell_type": "markdown",
   "metadata": {},
   "source": [
    "### Create new DataFrame fitting weather criteria\n",
    "* Narrow down the cities to fit weather conditions.\n",
    "* Drop any rows will null values."
   ]
  },
  {
   "cell_type": "code",
   "execution_count": null,
   "metadata": {},
   "outputs": [],
   "source": []
  },
  {
   "cell_type": "markdown",
   "metadata": {},
   "source": [
    "### Hotel Map\n",
    "* Store into variable named `hotel_df`.\n",
    "* Add a \"Hotel Name\" column to the DataFrame.\n",
    "* Set parameters to search for hotels with 5000 meters.\n",
    "* Hit the Google Places API for each city's coordinates.\n",
    "* Store the first Hotel result into the DataFrame.\n",
    "* Plot markers on top of the heatmap."
   ]
  },
  {
   "cell_type": "code",
   "execution_count": null,
   "metadata": {},
   "outputs": [],
   "source": []
  },
  {
   "cell_type": "code",
   "execution_count": null,
   "metadata": {},
   "outputs": [],
   "source": []
  },
  {
   "cell_type": "code",
   "execution_count": null,
   "metadata": {},
   "outputs": [],
   "source": [
    "# NOTE: Do not change any of the code in this cell\n",
    "\n",
    "# Using the template add the hotel marks to the heatmap\n",
    "info_box_template = \"\"\"\n",
    "<dl>\n",
    "<dt>Name</dt><dd>{Hotel Name}</dd>\n",
    "<dt>City</dt><dd>{City}</dd>\n",
    "<dt>Country</dt><dd>{Country}</dd>\n",
    "</dl>\n",
    "\"\"\"\n",
    "# Store the DataFrame Row\n",
    "# NOTE: be sure to update with your DataFrame name\n",
    "hotel_info = [info_box_template.format(**row) for index, row in hotel_df.iterrows()]\n",
    "locations = hotel_df[[\"Lat\", \"Lng\"]]"
   ]
  },
  {
   "cell_type": "code",
   "execution_count": null,
   "metadata": {},
   "outputs": [],
   "source": [
    "# Add marker layer ontop of heat map\n",
    "\n",
    "\n",
    "# Display figure\n"
   ]
  },
  {
   "cell_type": "code",
   "execution_count": null,
   "metadata": {},
   "outputs": [],
   "source": []
  }
 ],
 "metadata": {
  "kernelspec": {
   "display_name": "Python 3",
   "language": "python",
   "name": "python3"
  },
  "language_info": {
   "codemirror_mode": {
    "name": "ipython",
    "version": 3
   },
   "file_extension": ".py",
   "mimetype": "text/x-python",
   "name": "python",
   "nbconvert_exporter": "python",
   "pygments_lexer": "ipython3",
   "version": "3.6.10"
  },
  "latex_envs": {
   "LaTeX_envs_menu_present": true,
   "autoclose": false,
   "autocomplete": true,
   "bibliofile": "biblio.bib",
   "cite_by": "apalike",
   "current_citInitial": 1,
   "eqLabelWithNumbers": true,
   "eqNumInitial": 1,
   "hotkeys": {
    "equation": "Ctrl-E",
    "itemize": "Ctrl-I"
   },
   "labels_anchors": false,
   "latex_user_defs": false,
   "report_style_numbering": false,
   "user_envs_cfg": false
  }
 },
 "nbformat": 4,
 "nbformat_minor": 4
}
